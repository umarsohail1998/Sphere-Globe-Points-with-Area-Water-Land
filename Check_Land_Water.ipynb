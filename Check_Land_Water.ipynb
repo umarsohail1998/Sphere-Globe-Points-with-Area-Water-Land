{
 "cells": [
  {
   "cell_type": "code",
   "execution_count": 210,
   "id": "a0b31f47",
   "metadata": {},
   "outputs": [],
   "source": [
    "import pandas as pd\n",
    "import json\n",
    "import re\n",
    "import ast\n",
    "import numpy as np\n",
    "from global_land_mask import globe"
   ]
  },
  {
   "cell_type": "code",
   "execution_count": 211,
   "id": "a4ffb781",
   "metadata": {
    "scrolled": false
   },
   "outputs": [
    {
     "data": {
      "text/plain": [
       "99999"
      ]
     },
     "execution_count": 211,
     "metadata": {},
     "output_type": "execute_result"
    }
   ],
   "source": [
    "df = pd.read_csv(\"result.csv\")\n",
    "len(df)"
   ]
  },
  {
   "cell_type": "code",
   "execution_count": 212,
   "id": "ab485a54",
   "metadata": {},
   "outputs": [
    {
     "data": {
      "text/html": [
       "<div>\n",
       "<style scoped>\n",
       "    .dataframe tbody tr th:only-of-type {\n",
       "        vertical-align: middle;\n",
       "    }\n",
       "\n",
       "    .dataframe tbody tr th {\n",
       "        vertical-align: top;\n",
       "    }\n",
       "\n",
       "    .dataframe thead th {\n",
       "        text-align: right;\n",
       "    }\n",
       "</style>\n",
       "<table border=\"1\" class=\"dataframe\">\n",
       "  <thead>\n",
       "    <tr style=\"text-align: right;\">\n",
       "      <th></th>\n",
       "      <th>area_id</th>\n",
       "      <th>area_contained</th>\n",
       "      <th>area_type</th>\n",
       "      <th>latitude_and_longitude</th>\n",
       "    </tr>\n",
       "  </thead>\n",
       "  <tbody>\n",
       "    <tr>\n",
       "      <th>0</th>\n",
       "      <td>0</td>\n",
       "      <td>0.000190</td>\n",
       "      <td>water</td>\n",
       "      <td>['[32.319172, 163.217575]', '[32.324315, 162.1...</td>\n",
       "    </tr>\n",
       "    <tr>\n",
       "      <th>1</th>\n",
       "      <td>1</td>\n",
       "      <td>0.000161</td>\n",
       "      <td>water</td>\n",
       "      <td>['[-35.735589, 107.347378]', '[-35.883432, 107...</td>\n",
       "    </tr>\n",
       "    <tr>\n",
       "      <th>2</th>\n",
       "      <td>2</td>\n",
       "      <td>0.000155</td>\n",
       "      <td>water</td>\n",
       "      <td>['[1.654388, 82.484031]', '[1.900916, 82.62435...</td>\n",
       "    </tr>\n",
       "    <tr>\n",
       "      <th>3</th>\n",
       "      <td>3</td>\n",
       "      <td>0.000056</td>\n",
       "      <td>land</td>\n",
       "      <td>['[-18.319043, -41.160728]', '[-18.589356, -41...</td>\n",
       "    </tr>\n",
       "    <tr>\n",
       "      <th>4</th>\n",
       "      <td>4</td>\n",
       "      <td>0.000011</td>\n",
       "      <td>water</td>\n",
       "      <td>['[-57.109146, 67.107051]', '[-56.676897, 66.9...</td>\n",
       "    </tr>\n",
       "  </tbody>\n",
       "</table>\n",
       "</div>"
      ],
      "text/plain": [
       "   area_id  area_contained area_type  \\\n",
       "0        0        0.000190     water   \n",
       "1        1        0.000161     water   \n",
       "2        2        0.000155     water   \n",
       "3        3        0.000056      land   \n",
       "4        4        0.000011     water   \n",
       "\n",
       "                              latitude_and_longitude  \n",
       "0  ['[32.319172, 163.217575]', '[32.324315, 162.1...  \n",
       "1  ['[-35.735589, 107.347378]', '[-35.883432, 107...  \n",
       "2  ['[1.654388, 82.484031]', '[1.900916, 82.62435...  \n",
       "3  ['[-18.319043, -41.160728]', '[-18.589356, -41...  \n",
       "4  ['[-57.109146, 67.107051]', '[-56.676897, 66.9...  "
      ]
     },
     "execution_count": 212,
     "metadata": {},
     "output_type": "execute_result"
    }
   ],
   "source": [
    "df.head()"
   ]
  },
  {
   "cell_type": "code",
   "execution_count": 14,
   "id": "09a3ead2",
   "metadata": {},
   "outputs": [
    {
     "name": "stdout",
     "output_type": "stream",
     "text": [
      "{'area_id': '0', 'area_contained': '0.0009400587531802935', 'area_type': 'water', 'latitude_and_longitude': \"['[-35.655593, 164.172878]', '[-35.532144, 162.477879]', '[-34.98589, 161.817511]', '[-33.804805, 161.705416]', '[-33.999765, 163.693069]', '[-34.796751, 164.384598]', '[-34.806489, 164.38747]']\"}\n",
      "\n",
      "\n",
      "{'area_id': '1', 'area_contained': '0.00039960422060289643', 'area_type': 'water', 'latitude_and_longitude': \"['[-28.502282, 108.516455]', '[-29.265667, 107.416561]', '[-30.627149, 107.101579]', '[-30.49761, 107.54311]', '[-29.007391, 108.770055]']\"}\n",
      "\n",
      "\n",
      "{'area_id': '2', 'area_contained': '0.000510347985510165', 'area_type': 'water', 'latitude_and_longitude': \"['[-22.668347, 82.528614]', '[-21.455217, 82.637131]', '[-21.34583, 82.810961]', '[-21.334594, 82.942691]', '[-21.472649, 83.448832]', '[-21.791027, 83.909595]', '[-22.958193, 83.668068]', '[-23.134843, 83.424915]']\"}\n",
      "\n",
      "\n",
      "{'area_id': '3', 'area_contained': '0.0010969922111977856', 'area_type': 'water', 'latitude_and_longitude': \"['[63.931844, -41.828911]', '[62.564401, -43.407232]', '[61.694127, -42.226139]', '[62.061719, -39.437331]', '[63.805008, -38.622434]', '[64.031794, -39.135079]', '[64.14413, -40.371021]']\"}\n",
      "\n",
      "\n",
      "{'area_id': '4', 'area_contained': '0.0005308858826464111', 'area_type': 'land', 'latitude_and_longitude': \"['[28.128743, 66.924578]', '[26.955292, 67.846382]', '[26.150397, 66.879615]', '[26.316323, 66.532559]', '[26.792, 66.125059]', '[27.28232, 66.107356]']\"}\n",
      "\n",
      "\n",
      "{'area_id': '5', 'area_contained': '0.0006117195778349864', 'area_type': 'water', 'latitude_and_longitude': \"['[-9.514727, -25.589184]', '[-9.515042, -24.356088]', '[-7.666619, -24.044763]', '[-7.636566, -24.107907]', '[-8.592507, -25.639846]', '[-9.114906, -25.786357]']\"}\n",
      "\n",
      "\n",
      "{'area_id': '6', 'area_contained': '0.0003214588228690556', 'area_type': 'land', 'latitude_and_longitude': \"['[66.116465, 18.650453]', '[65.604793, 15.28938]', '[66.002766, 14.52424]', '[66.608864, 14.306741]', '[66.551783, 16.835452]']\"}\n",
      "\n",
      "\n",
      "{'area_id': '7', 'area_contained': '0.0009338653343100808', 'area_type': 'water', 'latitude_and_longitude': \"['[-29.212538, -88.185056]', '[-27.839248, -87.448671]', '[-27.896602, -85.951729]', '[-29.153346, -85.168384]', '[-29.155792, -85.175478]', '[-29.550208, -87.764834]']\"}\n",
      "\n",
      "\n",
      "{'area_id': '8', 'area_contained': '0.00043638110523398695', 'area_type': 'land', 'latitude_and_longitude': \"['[-24.305141, 31.090937]', '[-24.1343, 32.063803]', '[-24.1459, 32.103832]', '[-25.588747, 31.766906]', '[-25.810681, 30.965115]', '[-25.427366, 30.741245]', '[-24.564823, 30.859808]']\"}\n",
      "\n",
      "\n",
      "{'area_id': '9', 'area_contained': '0.00017524992384981058', 'area_type': 'water', 'latitude_and_longitude': \"['[-1.862985, 50.352745]', '[-1.726421, 50.751458]', '[-1.337924, 50.80932]', '[-0.589533, 49.757453]', '[-1.65652, 50.169834]']\"}\n",
      "\n",
      "\n",
      "{'area_id': '10', 'area_contained': '0.0006053259216716328', 'area_type': 'land', 'latitude_and_longitude': \"['[-78.088475, -109.211265]', '[-77.89126, -109.321177]', '[-77.26434, -111.474476]', '[-77.155214, -120.482953]', '[-77.333192, -120.933528]', '[-77.816092, -120.23744]', '[-78.319742, -113.481145]', '[-78.106661, -109.239285]']\"}\n",
      "\n",
      "\n",
      "{'area_id': '11', 'area_contained': '0.0014021497401826015', 'area_type': 'water', 'latitude_and_longitude': \"['[75.120738, -14.283735]', '[74.720393, -10.117948]', '[74.300532, -8.867254]', '[73.671996, -8.80658]', '[72.518109, -10.109193]', '[72.394628, -11.346553]', '[73.598727, -17.947078]', '[74.762653, -16.750188]']\"}\n",
      "\n",
      "\n",
      "{'area_id': '12', 'area_contained': '0.0009680319688056931', 'area_type': 'land', 'latitude_and_longitude': \"['[-25.337597, -66.921155]', '[-26.080299, -66.648904]', '[-26.446614, -64.247398]', '[-25.555839, -64.040643]', '[-24.774427, -65.31676]', '[-24.704494, -65.90704]', '[-24.853205, -66.6556]']\"}\n",
      "\n",
      "\n",
      "{'area_id': '13', 'area_contained': '0.00041161401864708434', 'area_type': 'water', 'latitude_and_longitude': \"['[-38.031432, -37.907907]', '[-38.173064, -37.779019]', '[-37.556518, -35.612402]', '[-36.640027, -36.70216]', '[-37.696953, -37.901407]']\"}\n",
      "\n",
      "\n",
      "{'area_id': '14', 'area_contained': '0.0006800393617164582', 'area_type': 'water', 'latitude_and_longitude': \"['[-53.961492, -92.998026]', '[-53.330668, -93.810306]', '[-52.381108, -92.812579]', '[-52.860456, -89.867798]', '[-53.979816, -91.847332]']\"}\n",
      "\n",
      "\n",
      "{'area_id': '15', 'area_contained': '0.0004875470742566989', 'area_type': 'water', 'latitude_and_longitude': \"['[-15.203467, -99.43207]', '[-14.497785, -98.752008]', '[-15.61546, -97.513904]', '[-16.051242, -97.586192]', '[-16.146564, -98.132303]', '[-15.897717, -98.672015]']\"}\n",
      "\n",
      "\n",
      "{'area_id': '16', 'area_contained': '0.0003175108521660448', 'area_type': 'land', 'latitude_and_longitude': \"['[60.257436, 55.422124]', '[60.75867, 54.507988]', '[60.557494, 53.840448]', '[58.881912, 53.812325]', '[58.862473, 53.912132]', '[58.91266, 54.552092]']\"}\n",
      "\n",
      "\n",
      "{'area_id': '17', 'area_contained': '0.0004647673193987346', 'area_type': 'land', 'latitude_and_longitude': \"['[15.597807, -95.707058]', '[15.468925, -97.282592]', '[16.675729, -97.541996]', '[16.749939, -97.433753]', '[16.433192, -96.185111]', '[15.985668, -95.811848]']\"}\n",
      "\n",
      "\n",
      "{'area_id': '18', 'area_contained': '0.0002708325330525924', 'area_type': 'water', 'latitude_and_longitude': \"['[-56.863377, 102.45903]', '[-57.559573, 100.470921]', '[-56.35419, 100.311372]', '[-56.300575, 100.413525]', '[-56.561477, 102.369599]']\"}\n",
      "\n",
      "\n",
      "{'area_id': '19', 'area_contained': '0.0007276601422794417', 'area_type': 'water', 'latitude_and_longitude': \"['[54.188348, -151.442877]', '[56.645726, -150.674989]', '[56.791595, -149.074642]', '[54.597096, -149.304835]']\"}\n",
      "\n",
      "\n"
     ]
    }
   ],
   "source": [
    "data = json.load(open(\"vernoi.json\", \"r\"))\n",
    "data\n",
    "for x in data[:20]:\n",
    "    print(x)\n",
    "    print(\"\\n\")"
   ]
  },
  {
   "cell_type": "code",
   "execution_count": 15,
   "id": "2d767ef5",
   "metadata": {},
   "outputs": [],
   "source": [
    "dt = {\"area_id\":[],\n",
    "          \"area_contained\": [],\n",
    "          \"area_type\":[],\n",
    "          \"latitude_and_longitude\": []}"
   ]
  },
  {
   "cell_type": "code",
   "execution_count": 16,
   "id": "8af5ffe3",
   "metadata": {},
   "outputs": [],
   "source": [
    "import pandas as pd\n",
    "df= pd.DataFrame(columns = ['area_id','area_contained', 'area_type', 'latitude_and_longitude'])"
   ]
  },
  {
   "cell_type": "code",
   "execution_count": 17,
   "id": "3090033a",
   "metadata": {},
   "outputs": [],
   "source": [
    "df.loc[1] = ['Amy', 89, 93, 88] \n"
   ]
  },
  {
   "cell_type": "code",
   "execution_count": 18,
   "id": "a71f2f20",
   "metadata": {
    "scrolled": true
   },
   "outputs": [
    {
     "data": {
      "text/html": [
       "<div>\n",
       "<style scoped>\n",
       "    .dataframe tbody tr th:only-of-type {\n",
       "        vertical-align: middle;\n",
       "    }\n",
       "\n",
       "    .dataframe tbody tr th {\n",
       "        vertical-align: top;\n",
       "    }\n",
       "\n",
       "    .dataframe thead th {\n",
       "        text-align: right;\n",
       "    }\n",
       "</style>\n",
       "<table border=\"1\" class=\"dataframe\">\n",
       "  <thead>\n",
       "    <tr style=\"text-align: right;\">\n",
       "      <th></th>\n",
       "      <th>area_id</th>\n",
       "      <th>area_contained</th>\n",
       "      <th>area_type</th>\n",
       "      <th>latitude_and_longitude</th>\n",
       "    </tr>\n",
       "  </thead>\n",
       "  <tbody>\n",
       "    <tr>\n",
       "      <th>1</th>\n",
       "      <td>Amy</td>\n",
       "      <td>89</td>\n",
       "      <td>93</td>\n",
       "      <td>88</td>\n",
       "    </tr>\n",
       "  </tbody>\n",
       "</table>\n",
       "</div>"
      ],
      "text/plain": [
       "  area_id area_contained area_type latitude_and_longitude\n",
       "1     Amy             89        93                     88"
      ]
     },
     "execution_count": 18,
     "metadata": {},
     "output_type": "execute_result"
    }
   ],
   "source": [
    "df"
   ]
  },
  {
   "cell_type": "code",
   "execution_count": 19,
   "id": "101bf17d",
   "metadata": {},
   "outputs": [],
   "source": [
    "import pandas as pd\n",
    "import numpy as np\n",
    "import time\n",
    "import random\n",
    "\n",
    "end_value = 10\n"
   ]
  },
  {
   "cell_type": "code",
   "execution_count": 20,
   "id": "c3673343",
   "metadata": {},
   "outputs": [
    {
     "name": "stdout",
     "output_type": "stream",
     "text": [
      "Execution time = 0.004699 seconds\n"
     ]
    }
   ],
   "source": [
    "start_time = time.time()\n",
    "dictionary_list = []\n",
    "for i in range(0, end_value, 1):\n",
    "    dictionary_data = {k: random.random() for k in range(10)}\n",
    "    dictionary_list.append(dictionary_data)\n",
    "\n",
    "df_final = pd.DataFrame.from_dict(dictionary_list)\n",
    "\n",
    "end_time = time.time()\n",
    "print('Execution time = %.6f seconds' % (end_time-start_time))\n"
   ]
  },
  {
   "cell_type": "code",
   "execution_count": 21,
   "id": "8330bd8d",
   "metadata": {},
   "outputs": [],
   "source": [
    "# 55.284704 seconds"
   ]
  },
  {
   "cell_type": "code",
   "execution_count": 22,
   "id": "6e8cf045",
   "metadata": {},
   "outputs": [
    {
     "data": {
      "text/html": [
       "<div>\n",
       "<style scoped>\n",
       "    .dataframe tbody tr th:only-of-type {\n",
       "        vertical-align: middle;\n",
       "    }\n",
       "\n",
       "    .dataframe tbody tr th {\n",
       "        vertical-align: top;\n",
       "    }\n",
       "\n",
       "    .dataframe thead th {\n",
       "        text-align: right;\n",
       "    }\n",
       "</style>\n",
       "<table border=\"1\" class=\"dataframe\">\n",
       "  <thead>\n",
       "    <tr style=\"text-align: right;\">\n",
       "      <th></th>\n",
       "      <th>0</th>\n",
       "      <th>1</th>\n",
       "      <th>2</th>\n",
       "      <th>3</th>\n",
       "      <th>4</th>\n",
       "      <th>5</th>\n",
       "      <th>6</th>\n",
       "      <th>7</th>\n",
       "      <th>8</th>\n",
       "      <th>9</th>\n",
       "    </tr>\n",
       "  </thead>\n",
       "  <tbody>\n",
       "    <tr>\n",
       "      <th>0</th>\n",
       "      <td>0.505710</td>\n",
       "      <td>0.222307</td>\n",
       "      <td>0.767053</td>\n",
       "      <td>0.493612</td>\n",
       "      <td>0.149950</td>\n",
       "      <td>0.077366</td>\n",
       "      <td>0.504397</td>\n",
       "      <td>0.666704</td>\n",
       "      <td>0.716529</td>\n",
       "      <td>0.809591</td>\n",
       "    </tr>\n",
       "    <tr>\n",
       "      <th>1</th>\n",
       "      <td>0.723903</td>\n",
       "      <td>0.794540</td>\n",
       "      <td>0.988928</td>\n",
       "      <td>0.493750</td>\n",
       "      <td>0.164096</td>\n",
       "      <td>0.001326</td>\n",
       "      <td>0.173067</td>\n",
       "      <td>0.135967</td>\n",
       "      <td>0.434029</td>\n",
       "      <td>0.673037</td>\n",
       "    </tr>\n",
       "    <tr>\n",
       "      <th>2</th>\n",
       "      <td>0.268214</td>\n",
       "      <td>0.264399</td>\n",
       "      <td>0.078261</td>\n",
       "      <td>0.439637</td>\n",
       "      <td>0.047333</td>\n",
       "      <td>0.875096</td>\n",
       "      <td>0.991307</td>\n",
       "      <td>0.491944</td>\n",
       "      <td>0.157511</td>\n",
       "      <td>0.283745</td>\n",
       "    </tr>\n",
       "    <tr>\n",
       "      <th>3</th>\n",
       "      <td>0.242398</td>\n",
       "      <td>0.478550</td>\n",
       "      <td>0.178396</td>\n",
       "      <td>0.683723</td>\n",
       "      <td>0.602473</td>\n",
       "      <td>0.934143</td>\n",
       "      <td>0.165838</td>\n",
       "      <td>0.702205</td>\n",
       "      <td>0.423115</td>\n",
       "      <td>0.799723</td>\n",
       "    </tr>\n",
       "    <tr>\n",
       "      <th>4</th>\n",
       "      <td>0.765708</td>\n",
       "      <td>0.570620</td>\n",
       "      <td>0.509191</td>\n",
       "      <td>0.308715</td>\n",
       "      <td>0.257296</td>\n",
       "      <td>0.312601</td>\n",
       "      <td>0.173345</td>\n",
       "      <td>0.621796</td>\n",
       "      <td>0.549028</td>\n",
       "      <td>0.424048</td>\n",
       "    </tr>\n",
       "  </tbody>\n",
       "</table>\n",
       "</div>"
      ],
      "text/plain": [
       "          0         1         2         3         4         5         6  \\\n",
       "0  0.505710  0.222307  0.767053  0.493612  0.149950  0.077366  0.504397   \n",
       "1  0.723903  0.794540  0.988928  0.493750  0.164096  0.001326  0.173067   \n",
       "2  0.268214  0.264399  0.078261  0.439637  0.047333  0.875096  0.991307   \n",
       "3  0.242398  0.478550  0.178396  0.683723  0.602473  0.934143  0.165838   \n",
       "4  0.765708  0.570620  0.509191  0.308715  0.257296  0.312601  0.173345   \n",
       "\n",
       "          7         8         9  \n",
       "0  0.666704  0.716529  0.809591  \n",
       "1  0.135967  0.434029  0.673037  \n",
       "2  0.491944  0.157511  0.283745  \n",
       "3  0.702205  0.423115  0.799723  \n",
       "4  0.621796  0.549028  0.424048  "
      ]
     },
     "execution_count": 22,
     "metadata": {},
     "output_type": "execute_result"
    }
   ],
   "source": [
    "df_final.head()"
   ]
  },
  {
   "cell_type": "code",
   "execution_count": null,
   "id": "ed21e214",
   "metadata": {},
   "outputs": [],
   "source": []
  },
  {
   "cell_type": "code",
   "execution_count": 124,
   "id": "a9d9b6a7",
   "metadata": {},
   "outputs": [],
   "source": [
    "import numpy as np\n"
   ]
  },
  {
   "cell_type": "code",
   "execution_count": 171,
   "id": "6b924594",
   "metadata": {},
   "outputs": [],
   "source": [
    "arr = np.array([0,1,2,3,4])"
   ]
  },
  {
   "cell_type": "code",
   "execution_count": 176,
   "id": "4cd20828",
   "metadata": {},
   "outputs": [],
   "source": [
    "# a = np.array([\n",
    "#     [[2],[3],[0]],\n",
    "#     [[1],[3],[0]],\n",
    "#     [[1],[2],[0]],\n",
    "#     [[1],[2],[3]]]\n",
    "# )\n",
    "a = np.array([\n",
    "    [[2],[3],[0]],\n",
    "    [[1],[3],[0]],\n",
    "    [[1],[2],[0]],\n",
    "    [[4],[2],[3]],\n",
    "    [[4],[1],[3]],\n",
    "    [[4],[1],[2]]]\n",
    ")"
   ]
  },
  {
   "cell_type": "code",
   "execution_count": 178,
   "id": "3880e281",
   "metadata": {},
   "outputs": [
    {
     "name": "stdout",
     "output_type": "stream",
     "text": [
      "{0: [0, 1, 2], 2: [0, 2, 3, 5], 3: [0, 1, 3, 4], 1: [1, 2, 4, 5], 4: [3, 4, 5]}\n"
     ]
    }
   ],
   "source": [
    "dt = {}\n",
    "count = 0\n",
    "for x in a:\n",
    "    res = np.where((np.array([x])==arr).any(axis=1)[0])\n",
    "    for r1 in res[0]:\n",
    "        if r1 not in dt:\n",
    "            dt[r1] = [count]\n",
    "        else:\n",
    "            dt[r1].append(count)\n",
    "    count+=1\n",
    "print(dt)"
   ]
  },
  {
   "cell_type": "code",
   "execution_count": 118,
   "id": "5f462b3e",
   "metadata": {},
   "outputs": [
    {
     "data": {
      "text/plain": [
       "array([[[False,  True, False, False],\n",
       "        [False, False, False,  True],\n",
       "        [ True, False, False, False]],\n",
       "\n",
       "       [[False,  True, False, False],\n",
       "        [False, False, False,  True],\n",
       "        [ True, False, False, False]],\n",
       "\n",
       "       [[False,  True, False, False],\n",
       "        [False, False,  True, False],\n",
       "        [ True, False, False, False]],\n",
       "\n",
       "       [[False,  True, False, False],\n",
       "        [False, False,  True, False],\n",
       "        [False, False, False,  True]]])"
      ]
     },
     "execution_count": 118,
     "metadata": {},
     "output_type": "execute_result"
    }
   ],
   "source": [
    "np.equal(arr,a)"
   ]
  },
  {
   "cell_type": "code",
   "execution_count": 112,
   "id": "2c375f7e",
   "metadata": {
    "scrolled": false
   },
   "outputs": [
    {
     "data": {
      "text/plain": [
       "array([[[False,  True, False, False],\n",
       "        [False, False, False,  True],\n",
       "        [ True, False, False, False]],\n",
       "\n",
       "       [[False,  True, False, False],\n",
       "        [False, False, False,  True],\n",
       "        [ True, False, False, False]],\n",
       "\n",
       "       [[False,  True, False, False],\n",
       "        [False, False,  True, False],\n",
       "        [ True, False, False, False]],\n",
       "\n",
       "       [[False,  True, False, False],\n",
       "        [False, False,  True, False],\n",
       "        [False, False, False,  True]]])"
      ]
     },
     "execution_count": 112,
     "metadata": {},
     "output_type": "execute_result"
    }
   ],
   "source": [
    "tmp = (a==arr)\n",
    "tmp"
   ]
  },
  {
   "cell_type": "code",
   "execution_count": 113,
   "id": "78753cde",
   "metadata": {},
   "outputs": [
    {
     "data": {
      "text/plain": [
       "array([[ True,  True, False,  True],\n",
       "       [ True,  True, False,  True],\n",
       "       [ True,  True,  True, False],\n",
       "       [False,  True,  True,  True]])"
      ]
     },
     "execution_count": 113,
     "metadata": {},
     "output_type": "execute_result"
    }
   ],
   "source": [
    "tmp.any(axis=1)"
   ]
  },
  {
   "cell_type": "code",
   "execution_count": 114,
   "id": "14819939",
   "metadata": {},
   "outputs": [
    {
     "data": {
      "text/plain": [
       "(array([0, 0, 0, 1, 1, 1, 2, 2, 2, 3, 3, 3]),\n",
       " array([0, 1, 3, 0, 1, 3, 0, 1, 2, 1, 2, 3]))"
      ]
     },
     "execution_count": 114,
     "metadata": {},
     "output_type": "execute_result"
    }
   ],
   "source": [
    "np.where(tmp.any(axis=1))"
   ]
  },
  {
   "cell_type": "code",
   "execution_count": 109,
   "id": "c86ac8e7",
   "metadata": {},
   "outputs": [
    {
     "data": {
      "text/plain": [
       "(array([], dtype=int64), array([], dtype=int64))"
      ]
     },
     "execution_count": 109,
     "metadata": {},
     "output_type": "execute_result"
    }
   ],
   "source": [
    "np.where((a==arr).any(axis=1))"
   ]
  },
  {
   "cell_type": "code",
   "execution_count": 92,
   "id": "cc8867a3",
   "metadata": {},
   "outputs": [
    {
     "data": {
      "text/plain": [
       "(array([0, 0, 0, 1, 1, 1, 2, 2, 2, 3, 3, 3]),\n",
       " array([0, 2, 3, 0, 1, 3, 0, 1, 2, 1, 2, 3]))"
      ]
     },
     "execution_count": 92,
     "metadata": {},
     "output_type": "execute_result"
    }
   ],
   "source": [
    "np.where((a==arr).any(axis=1))"
   ]
  },
  {
   "cell_type": "code",
   "execution_count": 93,
   "id": "e424a608",
   "metadata": {},
   "outputs": [],
   "source": [
    "import pandas as pd"
   ]
  },
  {
   "cell_type": "code",
   "execution_count": 96,
   "id": "a64e0d59",
   "metadata": {},
   "outputs": [
    {
     "ename": "FileNotFoundError",
     "evalue": "[Errno 2] No such file or directory: 'gb.csv'",
     "output_type": "error",
     "traceback": [
      "\u001b[0;31m---------------------------------------------------------------------------\u001b[0m",
      "\u001b[0;31mFileNotFoundError\u001b[0m                         Traceback (most recent call last)",
      "\u001b[0;32m/tmp/ipykernel_103056/2758240219.py\u001b[0m in \u001b[0;36m<module>\u001b[0;34m\u001b[0m\n\u001b[0;32m----> 1\u001b[0;31m \u001b[0mpd\u001b[0m\u001b[0;34m.\u001b[0m\u001b[0mread_csv\u001b[0m\u001b[0;34m(\u001b[0m\u001b[0;34m\"gb.csv\"\u001b[0m\u001b[0;34m)\u001b[0m\u001b[0;34m\u001b[0m\u001b[0;34m\u001b[0m\u001b[0m\n\u001b[0m",
      "\u001b[0;32m~/.pyenv/versions/3.7.9/lib/python3.7/site-packages/pandas/util/_decorators.py\u001b[0m in \u001b[0;36mwrapper\u001b[0;34m(*args, **kwargs)\u001b[0m\n\u001b[1;32m    309\u001b[0m                     \u001b[0mstacklevel\u001b[0m\u001b[0;34m=\u001b[0m\u001b[0mstacklevel\u001b[0m\u001b[0;34m,\u001b[0m\u001b[0;34m\u001b[0m\u001b[0;34m\u001b[0m\u001b[0m\n\u001b[1;32m    310\u001b[0m                 )\n\u001b[0;32m--> 311\u001b[0;31m             \u001b[0;32mreturn\u001b[0m \u001b[0mfunc\u001b[0m\u001b[0;34m(\u001b[0m\u001b[0;34m*\u001b[0m\u001b[0margs\u001b[0m\u001b[0;34m,\u001b[0m \u001b[0;34m**\u001b[0m\u001b[0mkwargs\u001b[0m\u001b[0;34m)\u001b[0m\u001b[0;34m\u001b[0m\u001b[0;34m\u001b[0m\u001b[0m\n\u001b[0m\u001b[1;32m    312\u001b[0m \u001b[0;34m\u001b[0m\u001b[0m\n\u001b[1;32m    313\u001b[0m         \u001b[0;32mreturn\u001b[0m \u001b[0mwrapper\u001b[0m\u001b[0;34m\u001b[0m\u001b[0;34m\u001b[0m\u001b[0m\n",
      "\u001b[0;32m~/.pyenv/versions/3.7.9/lib/python3.7/site-packages/pandas/io/parsers/readers.py\u001b[0m in \u001b[0;36mread_csv\u001b[0;34m(filepath_or_buffer, sep, delimiter, header, names, index_col, usecols, squeeze, prefix, mangle_dupe_cols, dtype, engine, converters, true_values, false_values, skipinitialspace, skiprows, skipfooter, nrows, na_values, keep_default_na, na_filter, verbose, skip_blank_lines, parse_dates, infer_datetime_format, keep_date_col, date_parser, dayfirst, cache_dates, iterator, chunksize, compression, thousands, decimal, lineterminator, quotechar, quoting, doublequote, escapechar, comment, encoding, encoding_errors, dialect, error_bad_lines, warn_bad_lines, on_bad_lines, delim_whitespace, low_memory, memory_map, float_precision, storage_options)\u001b[0m\n\u001b[1;32m    584\u001b[0m     \u001b[0mkwds\u001b[0m\u001b[0;34m.\u001b[0m\u001b[0mupdate\u001b[0m\u001b[0;34m(\u001b[0m\u001b[0mkwds_defaults\u001b[0m\u001b[0;34m)\u001b[0m\u001b[0;34m\u001b[0m\u001b[0;34m\u001b[0m\u001b[0m\n\u001b[1;32m    585\u001b[0m \u001b[0;34m\u001b[0m\u001b[0m\n\u001b[0;32m--> 586\u001b[0;31m     \u001b[0;32mreturn\u001b[0m \u001b[0m_read\u001b[0m\u001b[0;34m(\u001b[0m\u001b[0mfilepath_or_buffer\u001b[0m\u001b[0;34m,\u001b[0m \u001b[0mkwds\u001b[0m\u001b[0;34m)\u001b[0m\u001b[0;34m\u001b[0m\u001b[0;34m\u001b[0m\u001b[0m\n\u001b[0m\u001b[1;32m    587\u001b[0m \u001b[0;34m\u001b[0m\u001b[0m\n\u001b[1;32m    588\u001b[0m \u001b[0;34m\u001b[0m\u001b[0m\n",
      "\u001b[0;32m~/.pyenv/versions/3.7.9/lib/python3.7/site-packages/pandas/io/parsers/readers.py\u001b[0m in \u001b[0;36m_read\u001b[0;34m(filepath_or_buffer, kwds)\u001b[0m\n\u001b[1;32m    480\u001b[0m \u001b[0;34m\u001b[0m\u001b[0m\n\u001b[1;32m    481\u001b[0m     \u001b[0;31m# Create the parser.\u001b[0m\u001b[0;34m\u001b[0m\u001b[0;34m\u001b[0m\u001b[0;34m\u001b[0m\u001b[0m\n\u001b[0;32m--> 482\u001b[0;31m     \u001b[0mparser\u001b[0m \u001b[0;34m=\u001b[0m \u001b[0mTextFileReader\u001b[0m\u001b[0;34m(\u001b[0m\u001b[0mfilepath_or_buffer\u001b[0m\u001b[0;34m,\u001b[0m \u001b[0;34m**\u001b[0m\u001b[0mkwds\u001b[0m\u001b[0;34m)\u001b[0m\u001b[0;34m\u001b[0m\u001b[0;34m\u001b[0m\u001b[0m\n\u001b[0m\u001b[1;32m    483\u001b[0m \u001b[0;34m\u001b[0m\u001b[0m\n\u001b[1;32m    484\u001b[0m     \u001b[0;32mif\u001b[0m \u001b[0mchunksize\u001b[0m \u001b[0;32mor\u001b[0m \u001b[0miterator\u001b[0m\u001b[0;34m:\u001b[0m\u001b[0;34m\u001b[0m\u001b[0;34m\u001b[0m\u001b[0m\n",
      "\u001b[0;32m~/.pyenv/versions/3.7.9/lib/python3.7/site-packages/pandas/io/parsers/readers.py\u001b[0m in \u001b[0;36m__init__\u001b[0;34m(self, f, engine, **kwds)\u001b[0m\n\u001b[1;32m    809\u001b[0m             \u001b[0mself\u001b[0m\u001b[0;34m.\u001b[0m\u001b[0moptions\u001b[0m\u001b[0;34m[\u001b[0m\u001b[0;34m\"has_index_names\"\u001b[0m\u001b[0;34m]\u001b[0m \u001b[0;34m=\u001b[0m \u001b[0mkwds\u001b[0m\u001b[0;34m[\u001b[0m\u001b[0;34m\"has_index_names\"\u001b[0m\u001b[0;34m]\u001b[0m\u001b[0;34m\u001b[0m\u001b[0;34m\u001b[0m\u001b[0m\n\u001b[1;32m    810\u001b[0m \u001b[0;34m\u001b[0m\u001b[0m\n\u001b[0;32m--> 811\u001b[0;31m         \u001b[0mself\u001b[0m\u001b[0;34m.\u001b[0m\u001b[0m_engine\u001b[0m \u001b[0;34m=\u001b[0m \u001b[0mself\u001b[0m\u001b[0;34m.\u001b[0m\u001b[0m_make_engine\u001b[0m\u001b[0;34m(\u001b[0m\u001b[0mself\u001b[0m\u001b[0;34m.\u001b[0m\u001b[0mengine\u001b[0m\u001b[0;34m)\u001b[0m\u001b[0;34m\u001b[0m\u001b[0;34m\u001b[0m\u001b[0m\n\u001b[0m\u001b[1;32m    812\u001b[0m \u001b[0;34m\u001b[0m\u001b[0m\n\u001b[1;32m    813\u001b[0m     \u001b[0;32mdef\u001b[0m \u001b[0mclose\u001b[0m\u001b[0;34m(\u001b[0m\u001b[0mself\u001b[0m\u001b[0;34m)\u001b[0m\u001b[0;34m:\u001b[0m\u001b[0;34m\u001b[0m\u001b[0;34m\u001b[0m\u001b[0m\n",
      "\u001b[0;32m~/.pyenv/versions/3.7.9/lib/python3.7/site-packages/pandas/io/parsers/readers.py\u001b[0m in \u001b[0;36m_make_engine\u001b[0;34m(self, engine)\u001b[0m\n\u001b[1;32m   1038\u001b[0m             )\n\u001b[1;32m   1039\u001b[0m         \u001b[0;31m# error: Too many arguments for \"ParserBase\"\u001b[0m\u001b[0;34m\u001b[0m\u001b[0;34m\u001b[0m\u001b[0;34m\u001b[0m\u001b[0m\n\u001b[0;32m-> 1040\u001b[0;31m         \u001b[0;32mreturn\u001b[0m \u001b[0mmapping\u001b[0m\u001b[0;34m[\u001b[0m\u001b[0mengine\u001b[0m\u001b[0;34m]\u001b[0m\u001b[0;34m(\u001b[0m\u001b[0mself\u001b[0m\u001b[0;34m.\u001b[0m\u001b[0mf\u001b[0m\u001b[0;34m,\u001b[0m \u001b[0;34m**\u001b[0m\u001b[0mself\u001b[0m\u001b[0;34m.\u001b[0m\u001b[0moptions\u001b[0m\u001b[0;34m)\u001b[0m  \u001b[0;31m# type: ignore[call-arg]\u001b[0m\u001b[0;34m\u001b[0m\u001b[0;34m\u001b[0m\u001b[0m\n\u001b[0m\u001b[1;32m   1041\u001b[0m \u001b[0;34m\u001b[0m\u001b[0m\n\u001b[1;32m   1042\u001b[0m     \u001b[0;32mdef\u001b[0m \u001b[0m_failover_to_python\u001b[0m\u001b[0;34m(\u001b[0m\u001b[0mself\u001b[0m\u001b[0;34m)\u001b[0m\u001b[0;34m:\u001b[0m\u001b[0;34m\u001b[0m\u001b[0;34m\u001b[0m\u001b[0m\n",
      "\u001b[0;32m~/.pyenv/versions/3.7.9/lib/python3.7/site-packages/pandas/io/parsers/c_parser_wrapper.py\u001b[0m in \u001b[0;36m__init__\u001b[0;34m(self, src, **kwds)\u001b[0m\n\u001b[1;32m     49\u001b[0m \u001b[0;34m\u001b[0m\u001b[0m\n\u001b[1;32m     50\u001b[0m         \u001b[0;31m# open handles\u001b[0m\u001b[0;34m\u001b[0m\u001b[0;34m\u001b[0m\u001b[0;34m\u001b[0m\u001b[0m\n\u001b[0;32m---> 51\u001b[0;31m         \u001b[0mself\u001b[0m\u001b[0;34m.\u001b[0m\u001b[0m_open_handles\u001b[0m\u001b[0;34m(\u001b[0m\u001b[0msrc\u001b[0m\u001b[0;34m,\u001b[0m \u001b[0mkwds\u001b[0m\u001b[0;34m)\u001b[0m\u001b[0;34m\u001b[0m\u001b[0;34m\u001b[0m\u001b[0m\n\u001b[0m\u001b[1;32m     52\u001b[0m         \u001b[0;32massert\u001b[0m \u001b[0mself\u001b[0m\u001b[0;34m.\u001b[0m\u001b[0mhandles\u001b[0m \u001b[0;32mis\u001b[0m \u001b[0;32mnot\u001b[0m \u001b[0;32mNone\u001b[0m\u001b[0;34m\u001b[0m\u001b[0;34m\u001b[0m\u001b[0m\n\u001b[1;32m     53\u001b[0m \u001b[0;34m\u001b[0m\u001b[0m\n",
      "\u001b[0;32m~/.pyenv/versions/3.7.9/lib/python3.7/site-packages/pandas/io/parsers/base_parser.py\u001b[0m in \u001b[0;36m_open_handles\u001b[0;34m(self, src, kwds)\u001b[0m\n\u001b[1;32m    227\u001b[0m             \u001b[0mmemory_map\u001b[0m\u001b[0;34m=\u001b[0m\u001b[0mkwds\u001b[0m\u001b[0;34m.\u001b[0m\u001b[0mget\u001b[0m\u001b[0;34m(\u001b[0m\u001b[0;34m\"memory_map\"\u001b[0m\u001b[0;34m,\u001b[0m \u001b[0;32mFalse\u001b[0m\u001b[0;34m)\u001b[0m\u001b[0;34m,\u001b[0m\u001b[0;34m\u001b[0m\u001b[0;34m\u001b[0m\u001b[0m\n\u001b[1;32m    228\u001b[0m             \u001b[0mstorage_options\u001b[0m\u001b[0;34m=\u001b[0m\u001b[0mkwds\u001b[0m\u001b[0;34m.\u001b[0m\u001b[0mget\u001b[0m\u001b[0;34m(\u001b[0m\u001b[0;34m\"storage_options\"\u001b[0m\u001b[0;34m,\u001b[0m \u001b[0;32mNone\u001b[0m\u001b[0;34m)\u001b[0m\u001b[0;34m,\u001b[0m\u001b[0;34m\u001b[0m\u001b[0;34m\u001b[0m\u001b[0m\n\u001b[0;32m--> 229\u001b[0;31m             \u001b[0merrors\u001b[0m\u001b[0;34m=\u001b[0m\u001b[0mkwds\u001b[0m\u001b[0;34m.\u001b[0m\u001b[0mget\u001b[0m\u001b[0;34m(\u001b[0m\u001b[0;34m\"encoding_errors\"\u001b[0m\u001b[0;34m,\u001b[0m \u001b[0;34m\"strict\"\u001b[0m\u001b[0;34m)\u001b[0m\u001b[0;34m,\u001b[0m\u001b[0;34m\u001b[0m\u001b[0;34m\u001b[0m\u001b[0m\n\u001b[0m\u001b[1;32m    230\u001b[0m         )\n\u001b[1;32m    231\u001b[0m \u001b[0;34m\u001b[0m\u001b[0m\n",
      "\u001b[0;32m~/.pyenv/versions/3.7.9/lib/python3.7/site-packages/pandas/io/common.py\u001b[0m in \u001b[0;36mget_handle\u001b[0;34m(path_or_buf, mode, encoding, compression, memory_map, is_text, errors, storage_options)\u001b[0m\n\u001b[1;32m    705\u001b[0m                 \u001b[0mencoding\u001b[0m\u001b[0;34m=\u001b[0m\u001b[0mioargs\u001b[0m\u001b[0;34m.\u001b[0m\u001b[0mencoding\u001b[0m\u001b[0;34m,\u001b[0m\u001b[0;34m\u001b[0m\u001b[0;34m\u001b[0m\u001b[0m\n\u001b[1;32m    706\u001b[0m                 \u001b[0merrors\u001b[0m\u001b[0;34m=\u001b[0m\u001b[0merrors\u001b[0m\u001b[0;34m,\u001b[0m\u001b[0;34m\u001b[0m\u001b[0;34m\u001b[0m\u001b[0m\n\u001b[0;32m--> 707\u001b[0;31m                 \u001b[0mnewline\u001b[0m\u001b[0;34m=\u001b[0m\u001b[0;34m\"\"\u001b[0m\u001b[0;34m,\u001b[0m\u001b[0;34m\u001b[0m\u001b[0;34m\u001b[0m\u001b[0m\n\u001b[0m\u001b[1;32m    708\u001b[0m             )\n\u001b[1;32m    709\u001b[0m         \u001b[0;32melse\u001b[0m\u001b[0;34m:\u001b[0m\u001b[0;34m\u001b[0m\u001b[0;34m\u001b[0m\u001b[0m\n",
      "\u001b[0;31mFileNotFoundError\u001b[0m: [Errno 2] No such file or directory: 'gb.csv'"
     ]
    }
   ],
   "source": [
    "pd.read_csv(\"gb.csv\")"
   ]
  },
  {
   "cell_type": "code",
   "execution_count": null,
   "id": "214995d3",
   "metadata": {},
   "outputs": [],
   "source": []
  },
  {
   "cell_type": "code",
   "execution_count": null,
   "id": "5b328136",
   "metadata": {},
   "outputs": [],
   "source": []
  },
  {
   "cell_type": "code",
   "execution_count": null,
   "id": "bdc099a0",
   "metadata": {},
   "outputs": [],
   "source": []
  },
  {
   "cell_type": "code",
   "execution_count": null,
   "id": "39d91f00",
   "metadata": {},
   "outputs": [],
   "source": []
  },
  {
   "cell_type": "code",
   "execution_count": null,
   "id": "fd76c3e6",
   "metadata": {},
   "outputs": [],
   "source": []
  },
  {
   "cell_type": "code",
   "execution_count": null,
   "id": "234f0ba9",
   "metadata": {},
   "outputs": [],
   "source": []
  },
  {
   "cell_type": "code",
   "execution_count": null,
   "id": "28f51f4a",
   "metadata": {},
   "outputs": [],
   "source": []
  },
  {
   "cell_type": "code",
   "execution_count": null,
   "id": "720867fa",
   "metadata": {},
   "outputs": [],
   "source": []
  },
  {
   "cell_type": "code",
   "execution_count": null,
   "id": "23518781",
   "metadata": {},
   "outputs": [],
   "source": []
  },
  {
   "cell_type": "code",
   "execution_count": null,
   "id": "75d41105",
   "metadata": {},
   "outputs": [],
   "source": []
  },
  {
   "cell_type": "code",
   "execution_count": null,
   "id": "aa14c497",
   "metadata": {},
   "outputs": [],
   "source": []
  },
  {
   "cell_type": "code",
   "execution_count": null,
   "id": "befa40d0",
   "metadata": {},
   "outputs": [],
   "source": []
  },
  {
   "cell_type": "code",
   "execution_count": null,
   "id": "d2ec9c0c",
   "metadata": {},
   "outputs": [],
   "source": []
  },
  {
   "cell_type": "code",
   "execution_count": null,
   "id": "0df5a312",
   "metadata": {},
   "outputs": [],
   "source": []
  },
  {
   "cell_type": "code",
   "execution_count": null,
   "id": "907407f9",
   "metadata": {},
   "outputs": [],
   "source": []
  },
  {
   "cell_type": "code",
   "execution_count": null,
   "id": "89bacb34",
   "metadata": {},
   "outputs": [],
   "source": []
  },
  {
   "cell_type": "code",
   "execution_count": null,
   "id": "436046e6",
   "metadata": {},
   "outputs": [],
   "source": []
  },
  {
   "cell_type": "code",
   "execution_count": null,
   "id": "cf0aee42",
   "metadata": {},
   "outputs": [],
   "source": []
  },
  {
   "cell_type": "code",
   "execution_count": null,
   "id": "8815d7bd",
   "metadata": {},
   "outputs": [],
   "source": []
  },
  {
   "cell_type": "code",
   "execution_count": null,
   "id": "2f4b9445",
   "metadata": {},
   "outputs": [],
   "source": []
  },
  {
   "cell_type": "code",
   "execution_count": null,
   "id": "56c72073",
   "metadata": {},
   "outputs": [],
   "source": []
  },
  {
   "cell_type": "code",
   "execution_count": null,
   "id": "90317d9e",
   "metadata": {},
   "outputs": [],
   "source": []
  },
  {
   "cell_type": "code",
   "execution_count": null,
   "id": "87058d18",
   "metadata": {},
   "outputs": [],
   "source": []
  },
  {
   "cell_type": "code",
   "execution_count": null,
   "id": "7895a738",
   "metadata": {},
   "outputs": [],
   "source": []
  },
  {
   "cell_type": "code",
   "execution_count": null,
   "id": "47bf894c",
   "metadata": {},
   "outputs": [],
   "source": []
  },
  {
   "cell_type": "code",
   "execution_count": null,
   "id": "a65dfece",
   "metadata": {},
   "outputs": [],
   "source": []
  },
  {
   "cell_type": "code",
   "execution_count": null,
   "id": "1a71419c",
   "metadata": {},
   "outputs": [],
   "source": []
  },
  {
   "cell_type": "code",
   "execution_count": null,
   "id": "7e853245",
   "metadata": {},
   "outputs": [],
   "source": []
  },
  {
   "cell_type": "code",
   "execution_count": null,
   "id": "c9ed7d65",
   "metadata": {},
   "outputs": [],
   "source": []
  },
  {
   "cell_type": "code",
   "execution_count": null,
   "id": "9b1303fd",
   "metadata": {},
   "outputs": [],
   "source": []
  },
  {
   "cell_type": "code",
   "execution_count": null,
   "id": "6d133aa4",
   "metadata": {},
   "outputs": [],
   "source": []
  },
  {
   "cell_type": "code",
   "execution_count": null,
   "id": "99dc2082",
   "metadata": {},
   "outputs": [],
   "source": []
  },
  {
   "cell_type": "code",
   "execution_count": null,
   "id": "6a1a9a3d",
   "metadata": {},
   "outputs": [],
   "source": []
  },
  {
   "cell_type": "code",
   "execution_count": null,
   "id": "a856a2f3",
   "metadata": {},
   "outputs": [],
   "source": []
  },
  {
   "cell_type": "code",
   "execution_count": null,
   "id": "2bb94cb2",
   "metadata": {},
   "outputs": [],
   "source": []
  },
  {
   "cell_type": "code",
   "execution_count": null,
   "id": "79a6c082",
   "metadata": {},
   "outputs": [],
   "source": []
  },
  {
   "cell_type": "code",
   "execution_count": null,
   "id": "29a0a767",
   "metadata": {},
   "outputs": [],
   "source": []
  },
  {
   "cell_type": "code",
   "execution_count": null,
   "id": "2f05c291",
   "metadata": {},
   "outputs": [],
   "source": []
  },
  {
   "cell_type": "code",
   "execution_count": null,
   "id": "be1f00fd",
   "metadata": {},
   "outputs": [],
   "source": []
  },
  {
   "cell_type": "code",
   "execution_count": null,
   "id": "e3efe150",
   "metadata": {},
   "outputs": [],
   "source": []
  },
  {
   "cell_type": "code",
   "execution_count": null,
   "id": "310f6afc",
   "metadata": {},
   "outputs": [],
   "source": []
  },
  {
   "cell_type": "code",
   "execution_count": null,
   "id": "ed52f7c8",
   "metadata": {},
   "outputs": [],
   "source": []
  },
  {
   "cell_type": "code",
   "execution_count": null,
   "id": "a7459b44",
   "metadata": {},
   "outputs": [],
   "source": []
  },
  {
   "cell_type": "code",
   "execution_count": null,
   "id": "6d8dd80f",
   "metadata": {},
   "outputs": [],
   "source": []
  },
  {
   "cell_type": "code",
   "execution_count": null,
   "id": "4d818fa2",
   "metadata": {},
   "outputs": [],
   "source": []
  },
  {
   "cell_type": "code",
   "execution_count": null,
   "id": "be5a8b5b",
   "metadata": {},
   "outputs": [],
   "source": []
  },
  {
   "cell_type": "code",
   "execution_count": null,
   "id": "dafa00fd",
   "metadata": {},
   "outputs": [],
   "source": []
  },
  {
   "cell_type": "code",
   "execution_count": null,
   "id": "10dd73fc",
   "metadata": {},
   "outputs": [],
   "source": []
  },
  {
   "cell_type": "code",
   "execution_count": null,
   "id": "8734e84d",
   "metadata": {},
   "outputs": [],
   "source": []
  },
  {
   "cell_type": "code",
   "execution_count": null,
   "id": "36ef5073",
   "metadata": {},
   "outputs": [],
   "source": []
  },
  {
   "cell_type": "code",
   "execution_count": null,
   "id": "23b7847f",
   "metadata": {},
   "outputs": [],
   "source": []
  },
  {
   "cell_type": "code",
   "execution_count": null,
   "id": "92cec57e",
   "metadata": {},
   "outputs": [],
   "source": []
  },
  {
   "cell_type": "code",
   "execution_count": null,
   "id": "1d1446bf",
   "metadata": {},
   "outputs": [],
   "source": []
  },
  {
   "cell_type": "code",
   "execution_count": null,
   "id": "4b7de08a",
   "metadata": {},
   "outputs": [],
   "source": []
  },
  {
   "cell_type": "code",
   "execution_count": null,
   "id": "2b7c13b5",
   "metadata": {},
   "outputs": [],
   "source": []
  },
  {
   "cell_type": "code",
   "execution_count": 5,
   "id": "c81a663f",
   "metadata": {},
   "outputs": [],
   "source": [
    "arr = np.array(\n",
    "    [[44624, 89647, 65334],\n",
    "     [45234, 57795, 45379],\n",
    "     [92301, 62197,  6857]])"
   ]
  },
  {
   "cell_type": "code",
   "execution_count": 9,
   "id": "cbf0a9a8",
   "metadata": {},
   "outputs": [],
   "source": [
    "ar = np.arange(10)"
   ]
  },
  {
   "cell_type": "code",
   "execution_count": null,
   "id": "d6b75847",
   "metadata": {},
   "outputs": [],
   "source": []
  },
  {
   "cell_type": "code",
   "execution_count": 8,
   "id": "b75157c2",
   "metadata": {},
   "outputs": [],
   "source": [
    "nw = np.expand_dims(arr, -1)"
   ]
  },
  {
   "cell_type": "code",
   "execution_count": 10,
   "id": "2aaece33",
   "metadata": {},
   "outputs": [
    {
     "data": {
      "text/plain": [
       "(array([], dtype=int64), array([], dtype=int64), array([], dtype=int64))"
      ]
     },
     "execution_count": 10,
     "metadata": {},
     "output_type": "execute_result"
    }
   ],
   "source": [
    "np.where((nw==ar).axis())"
   ]
  },
  {
   "cell_type": "code",
   "execution_count": 12,
   "id": "45729338",
   "metadata": {},
   "outputs": [],
   "source": [
    "import numpy as np"
   ]
  },
  {
   "cell_type": "code",
   "execution_count": 41,
   "id": "3d36cc17",
   "metadata": {},
   "outputs": [],
   "source": [
    "aa = [0, 1, 2, 3, 4, 5, 6, 7, 8, 9]\n",
    "arr = [[2, 3, 0], [1, 3, 0], [1, 2, 0], [4, 2, 3], [4, 1, 3], [4, 1, 2]]"
   ]
  },
  {
   "cell_type": "code",
   "execution_count": 42,
   "id": "0c521699",
   "metadata": {},
   "outputs": [
    {
     "data": {
      "text/plain": [
       "numpy.ndarray"
      ]
     },
     "execution_count": 42,
     "metadata": {},
     "output_type": "execute_result"
    }
   ],
   "source": [
    "type((np.expand_dims(arr, -1) == aa))"
   ]
  },
  {
   "cell_type": "code",
   "execution_count": 46,
   "id": "1e55d096",
   "metadata": {
    "scrolled": true
   },
   "outputs": [
    {
     "data": {
      "text/plain": [
       "array([[[2],\n",
       "        [3],\n",
       "        [0]],\n",
       "\n",
       "       [[1],\n",
       "        [3],\n",
       "        [0]],\n",
       "\n",
       "       [[1],\n",
       "        [2],\n",
       "        [0]],\n",
       "\n",
       "       [[4],\n",
       "        [2],\n",
       "        [3]],\n",
       "\n",
       "       [[4],\n",
       "        [1],\n",
       "        [3]],\n",
       "\n",
       "       [[4],\n",
       "        [1],\n",
       "        [2]]])"
      ]
     },
     "execution_count": 46,
     "metadata": {},
     "output_type": "execute_result"
    }
   ],
   "source": [
    "tmp = np.expand_dims(arr, -1)\n",
    "tmp"
   ]
  },
  {
   "cell_type": "code",
   "execution_count": 60,
   "id": "1cab653d",
   "metadata": {
    "scrolled": true
   },
   "outputs": [
    {
     "data": {
      "text/plain": [
       "array([[[False, False,  True, False, False, False, False, False, False,\n",
       "         False],\n",
       "        [False, False, False,  True, False, False, False, False, False,\n",
       "         False],\n",
       "        [ True, False, False, False, False, False, False, False, False,\n",
       "         False]],\n",
       "\n",
       "       [[False,  True, False, False, False, False, False, False, False,\n",
       "         False],\n",
       "        [False, False, False,  True, False, False, False, False, False,\n",
       "         False],\n",
       "        [ True, False, False, False, False, False, False, False, False,\n",
       "         False]],\n",
       "\n",
       "       [[False,  True, False, False, False, False, False, False, False,\n",
       "         False],\n",
       "        [False, False,  True, False, False, False, False, False, False,\n",
       "         False],\n",
       "        [ True, False, False, False, False, False, False, False, False,\n",
       "         False]],\n",
       "\n",
       "       [[False, False, False, False,  True, False, False, False, False,\n",
       "         False],\n",
       "        [False, False,  True, False, False, False, False, False, False,\n",
       "         False],\n",
       "        [False, False, False,  True, False, False, False, False, False,\n",
       "         False]],\n",
       "\n",
       "       [[False, False, False, False,  True, False, False, False, False,\n",
       "         False],\n",
       "        [False,  True, False, False, False, False, False, False, False,\n",
       "         False],\n",
       "        [False, False, False,  True, False, False, False, False, False,\n",
       "         False]],\n",
       "\n",
       "       [[False, False, False, False,  True, False, False, False, False,\n",
       "         False],\n",
       "        [False,  True, False, False, False, False, False, False, False,\n",
       "         False],\n",
       "        [False, False,  True, False, False, False, False, False, False,\n",
       "         False]]])"
      ]
     },
     "execution_count": 60,
     "metadata": {},
     "output_type": "execute_result"
    }
   ],
   "source": [
    "(tmp == aa)"
   ]
  },
  {
   "cell_type": "code",
   "execution_count": 62,
   "id": "67811697",
   "metadata": {
    "scrolled": false
   },
   "outputs": [
    {
     "data": {
      "text/plain": [
       "array([[ True, False,  True,  True, False, False, False, False, False,\n",
       "        False],\n",
       "       [ True,  True, False,  True, False, False, False, False, False,\n",
       "        False],\n",
       "       [ True,  True,  True, False, False, False, False, False, False,\n",
       "        False],\n",
       "       [False, False,  True,  True,  True, False, False, False, False,\n",
       "        False],\n",
       "       [False,  True, False,  True,  True, False, False, False, False,\n",
       "        False],\n",
       "       [False,  True,  True, False,  True, False, False, False, False,\n",
       "        False]])"
      ]
     },
     "execution_count": 62,
     "metadata": {},
     "output_type": "execute_result"
    }
   ],
   "source": [
    "um = (tmp == aa).any(axis=1)\n",
    "um"
   ]
  },
  {
   "cell_type": "code",
   "execution_count": 64,
   "id": "60bc48cc",
   "metadata": {
    "collapsed": true
   },
   "outputs": [
    {
     "data": {
      "text/plain": [
       "['T',\n",
       " '__abs__',\n",
       " '__add__',\n",
       " '__and__',\n",
       " '__array__',\n",
       " '__array_finalize__',\n",
       " '__array_function__',\n",
       " '__array_interface__',\n",
       " '__array_prepare__',\n",
       " '__array_priority__',\n",
       " '__array_struct__',\n",
       " '__array_ufunc__',\n",
       " '__array_wrap__',\n",
       " '__bool__',\n",
       " '__class__',\n",
       " '__complex__',\n",
       " '__contains__',\n",
       " '__copy__',\n",
       " '__deepcopy__',\n",
       " '__delattr__',\n",
       " '__delitem__',\n",
       " '__dir__',\n",
       " '__divmod__',\n",
       " '__doc__',\n",
       " '__eq__',\n",
       " '__float__',\n",
       " '__floordiv__',\n",
       " '__format__',\n",
       " '__ge__',\n",
       " '__getattribute__',\n",
       " '__getitem__',\n",
       " '__gt__',\n",
       " '__hash__',\n",
       " '__iadd__',\n",
       " '__iand__',\n",
       " '__ifloordiv__',\n",
       " '__ilshift__',\n",
       " '__imatmul__',\n",
       " '__imod__',\n",
       " '__imul__',\n",
       " '__index__',\n",
       " '__init__',\n",
       " '__init_subclass__',\n",
       " '__int__',\n",
       " '__invert__',\n",
       " '__ior__',\n",
       " '__ipow__',\n",
       " '__irshift__',\n",
       " '__isub__',\n",
       " '__iter__',\n",
       " '__itruediv__',\n",
       " '__ixor__',\n",
       " '__le__',\n",
       " '__len__',\n",
       " '__lshift__',\n",
       " '__lt__',\n",
       " '__matmul__',\n",
       " '__mod__',\n",
       " '__mul__',\n",
       " '__ne__',\n",
       " '__neg__',\n",
       " '__new__',\n",
       " '__or__',\n",
       " '__pos__',\n",
       " '__pow__',\n",
       " '__radd__',\n",
       " '__rand__',\n",
       " '__rdivmod__',\n",
       " '__reduce__',\n",
       " '__reduce_ex__',\n",
       " '__repr__',\n",
       " '__rfloordiv__',\n",
       " '__rlshift__',\n",
       " '__rmatmul__',\n",
       " '__rmod__',\n",
       " '__rmul__',\n",
       " '__ror__',\n",
       " '__rpow__',\n",
       " '__rrshift__',\n",
       " '__rshift__',\n",
       " '__rsub__',\n",
       " '__rtruediv__',\n",
       " '__rxor__',\n",
       " '__setattr__',\n",
       " '__setitem__',\n",
       " '__setstate__',\n",
       " '__sizeof__',\n",
       " '__str__',\n",
       " '__sub__',\n",
       " '__subclasshook__',\n",
       " '__truediv__',\n",
       " '__xor__',\n",
       " 'all',\n",
       " 'any',\n",
       " 'argmax',\n",
       " 'argmin',\n",
       " 'argpartition',\n",
       " 'argsort',\n",
       " 'astype',\n",
       " 'base',\n",
       " 'byteswap',\n",
       " 'choose',\n",
       " 'clip',\n",
       " 'compress',\n",
       " 'conj',\n",
       " 'conjugate',\n",
       " 'copy',\n",
       " 'ctypes',\n",
       " 'cumprod',\n",
       " 'cumsum',\n",
       " 'data',\n",
       " 'diagonal',\n",
       " 'dot',\n",
       " 'dtype',\n",
       " 'dump',\n",
       " 'dumps',\n",
       " 'fill',\n",
       " 'flags',\n",
       " 'flat',\n",
       " 'flatten',\n",
       " 'getfield',\n",
       " 'imag',\n",
       " 'item',\n",
       " 'itemset',\n",
       " 'itemsize',\n",
       " 'max',\n",
       " 'mean',\n",
       " 'min',\n",
       " 'nbytes',\n",
       " 'ndim',\n",
       " 'newbyteorder',\n",
       " 'nonzero',\n",
       " 'partition',\n",
       " 'prod',\n",
       " 'ptp',\n",
       " 'put',\n",
       " 'ravel',\n",
       " 'real',\n",
       " 'repeat',\n",
       " 'reshape',\n",
       " 'resize',\n",
       " 'round',\n",
       " 'searchsorted',\n",
       " 'setfield',\n",
       " 'setflags',\n",
       " 'shape',\n",
       " 'size',\n",
       " 'sort',\n",
       " 'squeeze',\n",
       " 'std',\n",
       " 'strides',\n",
       " 'sum',\n",
       " 'swapaxes',\n",
       " 'take',\n",
       " 'tobytes',\n",
       " 'tofile',\n",
       " 'tolist',\n",
       " 'tostring',\n",
       " 'trace',\n",
       " 'transpose',\n",
       " 'var',\n",
       " 'view']"
      ]
     },
     "execution_count": 64,
     "metadata": {},
     "output_type": "execute_result"
    }
   ],
   "source": [
    "dir(um)"
   ]
  },
  {
   "cell_type": "code",
   "execution_count": 63,
   "id": "64d9d6a2",
   "metadata": {},
   "outputs": [
    {
     "data": {
      "text/plain": [
       "(array([0, 0, 0, 1, 1, 1, 2, 2, 2, 3, 3, 3, 4, 4, 4, 5, 5, 5]),\n",
       " array([0, 2, 3, 0, 1, 3, 0, 1, 2, 2, 3, 4, 1, 3, 4, 1, 2, 4]))"
      ]
     },
     "execution_count": 63,
     "metadata": {},
     "output_type": "execute_result"
    }
   ],
   "source": [
    "np.where(um)"
   ]
  },
  {
   "cell_type": "code",
   "execution_count": 29,
   "id": "240df226",
   "metadata": {},
   "outputs": [
    {
     "data": {
      "text/plain": [
       "(array([0, 0, 0, 1, 1, 1, 2, 2, 2, 3, 3, 3, 4, 4, 4, 5, 5, 5]),\n",
       " array([0, 1, 2, 0, 1, 2, 0, 1, 2, 0, 1, 2, 0, 1, 2, 0, 1, 2]),\n",
       " array([2, 3, 0, 1, 3, 0, 1, 2, 0, 4, 2, 3, 4, 1, 3, 4, 1, 2]))"
      ]
     },
     "execution_count": 29,
     "metadata": {},
     "output_type": "execute_result"
    }
   ],
   "source": [
    "np.where((np.expand_dims(arr, -1) == aa))"
   ]
  },
  {
   "cell_type": "code",
   "execution_count": 34,
   "id": "d47df223",
   "metadata": {},
   "outputs": [
    {
     "name": "stdout",
     "output_type": "stream",
     "text": [
      "False\n",
      "True\n",
      "True\n",
      "True\n",
      "False\n"
     ]
    }
   ],
   "source": [
    "import numpy as np\n",
    "\n",
    "a = np.array([1,2,3,4])\n",
    "b = np.array([5,4,7,8])\n",
    "c = np.array([1,2,3,4])\n",
    "\n",
    "print((a == b ).all())  #False\n",
    "print((a == c ).all())   # True\n",
    "print((a == b ).any())   #False\n",
    "print((a == c ).any())   #True\n",
    "print((a > 3 ).all())    #False"
   ]
  },
  {
   "cell_type": "code",
   "execution_count": 73,
   "id": "312f1fe7",
   "metadata": {},
   "outputs": [],
   "source": [
    "arr = np.array([[1,2,3],[4,5,6]])\n",
    "a = np.array([1,2,3,4,5,6])"
   ]
  },
  {
   "cell_type": "code",
   "execution_count": 76,
   "id": "b44aa1c2",
   "metadata": {},
   "outputs": [
    {
     "name": "stderr",
     "output_type": "stream",
     "text": [
      "/home/umar/.pyenv/versions/3.7.9/lib/python3.7/site-packages/ipykernel_launcher.py:1: DeprecationWarning: elementwise comparison failed; this will raise an error in the future.\n",
      "  \"\"\"Entry point for launching an IPython kernel.\n"
     ]
    },
    {
     "ename": "AttributeError",
     "evalue": "'bool' object has no attribute 'any'",
     "output_type": "error",
     "traceback": [
      "\u001b[0;31m---------------------------------------------------------------------------\u001b[0m",
      "\u001b[0;31mAttributeError\u001b[0m                            Traceback (most recent call last)",
      "\u001b[0;32m/tmp/ipykernel_103056/4275292420.py\u001b[0m in \u001b[0;36m<module>\u001b[0;34m\u001b[0m\n\u001b[0;32m----> 1\u001b[0;31m \u001b[0mnp\u001b[0m\u001b[0;34m.\u001b[0m\u001b[0mwhere\u001b[0m\u001b[0;34m(\u001b[0m\u001b[0;34m(\u001b[0m\u001b[0mnp\u001b[0m\u001b[0;34m.\u001b[0m\u001b[0mexpand_dims\u001b[0m\u001b[0;34m(\u001b[0m\u001b[0ma\u001b[0m\u001b[0;34m,\u001b[0m\u001b[0;34m-\u001b[0m\u001b[0;36m1\u001b[0m\u001b[0;34m)\u001b[0m\u001b[0;34m==\u001b[0m\u001b[0marr\u001b[0m\u001b[0;34m)\u001b[0m\u001b[0;34m.\u001b[0m\u001b[0many\u001b[0m\u001b[0;34m(\u001b[0m\u001b[0maxis\u001b[0m\u001b[0;34m=\u001b[0m\u001b[0;36m1\u001b[0m\u001b[0;34m)\u001b[0m\u001b[0;34m)\u001b[0m\u001b[0;34m\u001b[0m\u001b[0;34m\u001b[0m\u001b[0m\n\u001b[0m",
      "\u001b[0;31mAttributeError\u001b[0m: 'bool' object has no attribute 'any'"
     ]
    }
   ],
   "source": [
    "np.where((np.expand_dims(a,-1)==arr).any(axis=1))"
   ]
  },
  {
   "cell_type": "code",
   "execution_count": null,
   "id": "c7817606",
   "metadata": {},
   "outputs": [],
   "source": []
  }
 ],
 "metadata": {
  "kernelspec": {
   "display_name": "Python 3 (ipykernel)",
   "language": "python",
   "name": "python3"
  },
  "language_info": {
   "codemirror_mode": {
    "name": "ipython",
    "version": 3
   },
   "file_extension": ".py",
   "mimetype": "text/x-python",
   "name": "python",
   "nbconvert_exporter": "python",
   "pygments_lexer": "ipython3",
   "version": "3.7.9"
  }
 },
 "nbformat": 4,
 "nbformat_minor": 5
}
